{
 "metadata": {
  "language_info": {
   "codemirror_mode": {
    "name": "ipython",
    "version": 3
   },
   "file_extension": ".py",
   "mimetype": "text/x-python",
   "name": "python",
   "nbconvert_exporter": "python",
   "pygments_lexer": "ipython3",
   "version": "3.8.10"
  },
  "orig_nbformat": 2,
  "kernelspec": {
   "name": "python3",
   "display_name": "Python 3.8.10 64-bit ('isi306': virtualenv)"
  },
  "interpreter": {
   "hash": "10b7297b41cbbbf2f0f01a6cbf813159f4c6c9c40f6d9a618adaad1fbe3b5a84"
  }
 },
 "nbformat": 4,
 "nbformat_minor": 2,
 "cells": [
  {
   "cell_type": "markdown",
   "source": [
    "# Analisis de ventas\n"
   ],
   "metadata": {}
  },
  {
   "cell_type": "code",
   "execution_count": null,
   "source": [
    "import os\n",
    "import pandas as pd"
   ],
   "outputs": [],
   "metadata": {}
  },
  {
   "cell_type": "markdown",
   "source": [
    "## consolidar datos de todo el año"
   ],
   "metadata": {}
  },
  {
   "cell_type": "code",
   "execution_count": null,
   "source": [
    "path = 'Sales_Data'\n",
    "archivos = [file for file in os.listdir(path) if not file.startswith('.')]\n",
    "print(archivos)\n",
    "data_anual = pd.DataFrame()\n",
    "\n",
    "for archivo in archivos:\n",
    "    actual = pd.read_csv(path + '/' + archivo)\n",
    "    data_anual = pd.concat([data_anual, actual])\n",
    "\n",
    "data_anual.to_csv('consolidado_2019.csv', index=False)"
   ],
   "outputs": [],
   "metadata": {}
  },
  {
   "cell_type": "code",
   "execution_count": null,
   "source": [
    "data_anual.describe()"
   ],
   "outputs": [],
   "metadata": {}
  },
  {
   "cell_type": "code",
   "execution_count": null,
   "source": [
    "data_anual.tail()"
   ],
   "outputs": [],
   "metadata": {}
  },
  {
   "cell_type": "markdown",
   "source": [
    "## Limpieza de los datos"
   ],
   "metadata": {}
  },
  {
   "cell_type": "code",
   "execution_count": null,
   "source": [
    "# borrar filas vacias\n",
    "nan_df = data_anual[data_anual.isna().any(axis=1)]\n",
    "\n",
    "data_anual = data_anual.dropna(how='all')"
   ],
   "outputs": [],
   "metadata": {}
  },
  {
   "cell_type": "code",
   "execution_count": null,
   "source": [
    "nan_df2 = data_anual[data_anual.isna().any(axis=1)]\n",
    "nan_df2"
   ],
   "outputs": [],
   "metadata": {}
  },
  {
   "cell_type": "code",
   "execution_count": null,
   "source": [
    "data_anual = data_anual[data_anual['Order Date'].str[0:2] != 'Or']"
   ],
   "outputs": [],
   "metadata": {}
  },
  {
   "cell_type": "code",
   "execution_count": null,
   "source": [],
   "outputs": [],
   "metadata": {}
  },
  {
   "cell_type": "markdown",
   "source": [
    "### convertir datos numericos\n"
   ],
   "metadata": {}
  },
  {
   "cell_type": "code",
   "execution_count": null,
   "source": [
    "data_anual['Quantity Ordered'] = pd.to_numeric(data_anual['Quantity Ordered'])\n",
    "data_anual['Price Each'] = pd.to_numeric(data_anual['Price Each'])"
   ],
   "outputs": [],
   "metadata": {}
  },
  {
   "cell_type": "code",
   "execution_count": null,
   "source": [
    "type(data_anual['Price Each'][0].values[0])"
   ],
   "outputs": [],
   "metadata": {}
  },
  {
   "cell_type": "markdown",
   "source": [
    "### agregar columna de mes"
   ],
   "metadata": {}
  },
  {
   "cell_type": "code",
   "execution_count": null,
   "source": [
    "data_anual['Month'] = pd.to_numeric(data_anual['Order Date'].str[:2])\n",
    "data_anual.head()"
   ],
   "outputs": [],
   "metadata": {}
  },
  {
   "cell_type": "code",
   "execution_count": null,
   "source": [
    "def get_ciudad(direccion):\n",
    "    return direccion.split(',')[1].strip(' ')\n",
    "def get_estado(direccion):\n",
    "    return direccion.split(',')[2].split(' ')[1]"
   ],
   "outputs": [],
   "metadata": {}
  },
  {
   "cell_type": "code",
   "execution_count": null,
   "source": [
    "get_ciudad('755 Sunset St, New York City, NY 10001')"
   ],
   "outputs": [],
   "metadata": {}
  },
  {
   "cell_type": "code",
   "execution_count": null,
   "source": [
    "data_anual['City'] = data_anual['Purchase Address'].apply(get_ciudad)\n",
    "data_anual.head()"
   ],
   "outputs": [],
   "metadata": {}
  },
  {
   "cell_type": "markdown",
   "source": [
    "## Exploracion de datos\n"
   ],
   "metadata": {}
  },
  {
   "cell_type": "markdown",
   "source": [
    "### cual fue el mejor mes en ventas"
   ],
   "metadata": {}
  },
  {
   "cell_type": "code",
   "execution_count": null,
   "source": [
    "data_anual['Sales'] = data_anual['Quantity Ordered'].astype('int') * data_anual['Price Each'].astype('float')\n",
    "data_anual.head()"
   ],
   "outputs": [],
   "metadata": {}
  },
  {
   "cell_type": "code",
   "execution_count": null,
   "source": [
    "data_anual.groupby(['Month']).sum()"
   ],
   "outputs": [],
   "metadata": {}
  },
  {
   "cell_type": "code",
   "execution_count": null,
   "source": [
    "import matplotlib.pyplot as plt\n",
    "%matplotlib inline\n",
    "months = range(1,13)\n",
    "\n",
    "plt.bar(months, data_anual.groupby(['Month']).sum()['Sales'])\n",
    "plt.xticks(months)\n",
    "plt.ylabel('Ventas en Bs')\n",
    "plt.xlabel('Mes')\n"
   ],
   "outputs": [],
   "metadata": {}
  },
  {
   "cell_type": "markdown",
   "source": [
    "### cual es la ciudad con mas ventas?\n"
   ],
   "metadata": {}
  },
  {
   "cell_type": "code",
   "execution_count": null,
   "source": [
    "data_anual.groupby(['City']).sum()"
   ],
   "outputs": [],
   "metadata": {}
  },
  {
   "cell_type": "code",
   "execution_count": null,
   "source": [
    "ciudades = [ciudad for ciudad, df in data_anual.groupby(['City'])]\n",
    "plt.bar(ciudades, data_anual.groupby(['City']).sum()['Sales'])\n",
    "plt.xticks(ciudades, rotation='vertical')\n",
    "plt.ylabel('Ventas en $us')\n",
    "plt.xlabel('Ciudad')"
   ],
   "outputs": [],
   "metadata": {}
  },
  {
   "cell_type": "markdown",
   "source": [
    "### a que hora deberiamos mostrar publicidad para mejorar nuestras ventas?"
   ],
   "metadata": {}
  },
  {
   "cell_type": "code",
   "execution_count": null,
   "source": [
    "data_anual['Hour'] = pd.to_datetime(data_anual['Order Date']).dt.hour\n",
    "data_anual.head()"
   ],
   "outputs": [],
   "metadata": {}
  },
  {
   "cell_type": "code",
   "execution_count": null,
   "source": [
    "data_anual['Count'] = 1\n",
    "data_anual.head(15)"
   ],
   "outputs": [],
   "metadata": {}
  },
  {
   "cell_type": "code",
   "execution_count": null,
   "source": [
    "data_anual.groupby(['Hour']).count()"
   ],
   "outputs": [],
   "metadata": {}
  },
  {
   "cell_type": "code",
   "execution_count": null,
   "source": [
    "horas = [hora for hora, df in data_anual.groupby(['Hour'])]\n",
    "plt.plot(horas, data_anual.groupby(['Hour']).count()['Count'])\n",
    "plt.xticks(horas, rotation='vertical')\n",
    "plt.ylabel('Numero de ordenes')\n",
    "plt.xlabel('Hora')\n",
    "plt.grid()"
   ],
   "outputs": [],
   "metadata": {}
  },
  {
   "cell_type": "markdown",
   "source": [
    "### cuales son los productos que se venden mas a menudo juntos?"
   ],
   "metadata": {}
  },
  {
   "cell_type": "code",
   "execution_count": null,
   "source": [
    "df = data_anual[data_anual['Order ID'].duplicated(keep=False)]\n",
    "df['Grouped'] = df.groupby('Order ID')['Product'].transform(lambda x: ', '.join(x))\n",
    "df.head()"
   ],
   "outputs": [],
   "metadata": {}
  },
  {
   "cell_type": "code",
   "execution_count": null,
   "source": [
    "df2 = df[['Order ID', 'Grouped']].drop_duplicates()\n",
    "df2.tail(50)"
   ],
   "outputs": [],
   "metadata": {}
  },
  {
   "cell_type": "code",
   "execution_count": null,
   "source": [
    "from itertools import combinations\n",
    "from collections import Counter\n",
    "\n",
    "contador = Counter()\n",
    "\n",
    "for fila in df2['Grouped']:\n",
    "    lista_prod = fila.split(',')\n",
    "    contador.update(Counter(combinations(lista_prod, 2)))\n",
    "\n",
    "# menos comunes\n",
    "contador.most_common()"
   ],
   "outputs": [],
   "metadata": {}
  },
  {
   "cell_type": "code",
   "execution_count": null,
   "source": [],
   "outputs": [],
   "metadata": {}
  }
 ]
}